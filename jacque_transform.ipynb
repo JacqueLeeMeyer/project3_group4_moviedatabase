{
 "cells": [
  {
   "cell_type": "markdown",
   "metadata": {},
   "source": [
    "# From Eric's Inital Data Import:"
   ]
  },
  {
   "cell_type": "code",
   "execution_count": null,
   "metadata": {},
   "outputs": [],
   "source": [
    "#dependencies\n",
    "import pandas as pd\n",
    "import json"
   ]
  },
  {
   "cell_type": "code",
   "execution_count": null,
   "metadata": {},
   "outputs": [],
   "source": [
    "movies = pd.read_csv(\"Resources/tmdb_5000_movies.csv\")\n",
    "movies.head()"
   ]
  },
  {
   "cell_type": "code",
   "execution_count": null,
   "metadata": {},
   "outputs": [],
   "source": [
    "en_movies = movies[movies[\"original_language\"]==\"en\"]\n",
    "en_movies.head()"
   ]
  },
  {
   "cell_type": "code",
   "execution_count": null,
   "metadata": {},
   "outputs": [],
   "source": [
    "credits = pd.read_csv(\"Resources/tmdb_5000_credits.csv\")\n",
    "credits.head()"
   ]
  },
  {
   "cell_type": "markdown",
   "metadata": {},
   "source": [
    "# Create Genres Dataframe"
   ]
  },
  {
   "cell_type": "code",
   "execution_count": null,
   "metadata": {},
   "outputs": [],
   "source": [
    "# Create sets to hold ids and names\n",
    "ids_names = set()\n",
    "\n",
    "\n",
    "# Loop through genres rows and update sets\n",
    "for row in en_movies['genres']:\n",
    "    genres = json.loads(row)\n",
    "    ids_names.update((i['id'], i['name']) for i in genres)\n",
    "\n",
    "\n",
    "# Print ids and genre lists\n",
    "print(ids_names)\n"
   ]
  },
  {
   "cell_type": "code",
   "execution_count": null,
   "metadata": {},
   "outputs": [],
   "source": [
    "# Create Genres Dataframe\n",
    "genres_df = pd.DataFrame(columns=['genre_id', 'genre'], data=(ids_names))\n",
    "\n",
    "# Convert ids to integers\n",
    "genres_df['genre_id']=genres_df['genre_id'].astype(int)\n",
    "\n",
    "# Save as csv\n",
    "genres_df.to_csv('csv_outputs\\genres.csv', index=False)\n",
    "\n",
    "genres_df"
   ]
  },
  {
   "cell_type": "markdown",
   "metadata": {},
   "source": [
    "### Using emoji Library with Genres DF"
   ]
  },
  {
   "cell_type": "code",
   "execution_count": null,
   "metadata": {},
   "outputs": [],
   "source": [
    "# A new library just for fun!\n",
    "import emoji \n",
    "# New DF\n",
    "emoji_genres=genres_df.copy()\n",
    "# Create a dictionary emoji aliases\n",
    "emoji_dic = {'Horror':':face_screaming_in_fear:', 'Science Fiction':':alien:', 'Foreign':':globe_showing_europe_africa:', 'Family':':family_man_woman_girl_boy:', 'Action':':person_fencing:', 'Music':':musical_notes:', 'War':':military_medal:', 'Comedy':':rolling_on_the_floor_laughing:', 'Romance':':sparkling_heart:', 'Drama':':performing_arts:', 'Thriller':':bomb:', 'Adventure':':person_climbing:', 'TV Movie':':television:', 'Documentary':':video_camera:', 'Crime':':supervillain:', 'History':':classical_building:', 'Animation':':unicorn:', 'Fantasy':':troll:', 'Mystery':':detective:', 'Western':':cowboy_hat_face:'}\n",
    "# Create a DF of emoji aliases\n",
    "emoji_df= pd.DataFrame(list(emoji_dic.items()), columns=['genre', 'alias'])\n",
    "# Merge DFs\n",
    "emoji_genres=pd.merge(emoji_genres, emoji_df, on='genre', how='left')\n",
    "# Create emojis\n",
    "emoji_genres['genres_emoji'] = [emoji.emojize(x, language='alias') for x in emoji_genres['alias']]\n",
    "# Save as csv\n",
    "emoji_genres.to_csv('csv_outputs\\emoji_genres.csv', index=False)\n",
    "\n",
    "emoji_genres"
   ]
  },
  {
   "cell_type": "markdown",
   "metadata": {},
   "source": [
    "# Create Cast Dataframe"
   ]
  },
  {
   "cell_type": "code",
   "execution_count": null,
   "metadata": {},
   "outputs": [],
   "source": [
    "# Create set to hold ids and actors\n",
    "ids_cast = set()\n",
    "\n",
    "\n",
    "# Loop through cast rows and update set\n",
    "for row in credits['cast']:\n",
    "    actor = json.loads(row)\n",
    "    ids_cast.update((i['id'], i['name']) for i in actor)\n",
    "\n",
    "\n",
    "\n",
    "# Print ids and actors lists\n",
    "print(ids_cast)"
   ]
  },
  {
   "cell_type": "code",
   "execution_count": null,
   "metadata": {},
   "outputs": [],
   "source": [
    "# Create Actors Dataframe\n",
    "cast_df = pd.DataFrame(columns=['actor_id', 'actor'], data=(ids_cast))\n",
    "\n",
    "# Convert ids to integers\n",
    "cast_df['actor_id']=cast_df['actor_id'].astype(int)\n",
    "\n",
    "# Save as csv\n",
    "cast_df.to_csv('csv_outputs\\cast.csv', index=False)\n",
    "\n",
    "cast_df.head(10)"
   ]
  },
  {
   "cell_type": "markdown",
   "metadata": {},
   "source": [
    "# Create Directors Dataframe"
   ]
  },
  {
   "cell_type": "code",
   "execution_count": null,
   "metadata": {},
   "outputs": [],
   "source": [
    "# Create set to hold ids and directors\n",
    "ids_director = set()\n",
    "\n",
    "# Loop through crew rows and update set\n",
    "for row in credits['crew']:\n",
    "    directors = json.loads(row)\n",
    "         \n",
    "# Loop through crew members\n",
    "    for crew_member in directors:\n",
    "    # Find members with 'job':'director'\n",
    "        if crew_member.get('job') == \"Director\":\n",
    "        # If Director, update set\n",
    "            ids_director.add((crew_member['id'], crew_member['name']))\n",
    "\n",
    "\n",
    "# Print the set containing director ids and names\n",
    "print(ids_director)"
   ]
  },
  {
   "cell_type": "code",
   "execution_count": null,
   "metadata": {},
   "outputs": [],
   "source": [
    "# Create Director Dataframe\n",
    "director_df = pd.DataFrame(columns=['director_id', 'director'], data=(ids_director))\n",
    "\n",
    "# Convert ids to integers\n",
    "director_df['director_id']=director_df['director_id'].astype(int)\n",
    "\n",
    "# Save as csv\n",
    "director_df.to_csv('csv_outputs\\directors.csv', index=False)\n",
    "\n",
    "director_df.head(10)"
   ]
  },
  {
   "cell_type": "markdown",
   "metadata": {},
   "source": [
    "# Create Keyword Dataframe"
   ]
  },
  {
   "cell_type": "code",
   "execution_count": null,
   "metadata": {},
   "outputs": [],
   "source": [
    "# Create sets to hold ids and names\n",
    "ids_keyword = set()\n",
    "\n",
    "# Loop through genres rows and update sets\n",
    "for row in en_movies['keywords']:\n",
    "    keywords = json.loads(row)\n",
    "    ids_keyword.update((i['id'], i['name']) for i in keywords)\n",
    "\n",
    "\n",
    "# Print ids and genre lists\n",
    "print(ids_keyword)"
   ]
  },
  {
   "cell_type": "code",
   "execution_count": null,
   "metadata": {},
   "outputs": [],
   "source": [
    "# Create keywords Dataframe\n",
    "keywords_df = pd.DataFrame(columns=['kw_id', 'keyword'], data=(ids_keyword))\n",
    "\n",
    "# Convert ids to integers\n",
    "keywords_df['kw_id']=keywords_df['kw_id'].astype(int)\n",
    "\n",
    "# Save as csv\n",
    "keywords_df.to_csv('csv_outputs\\keywords.csv', index=False)\n",
    "\n",
    "keywords_df"
   ]
  },
  {
   "cell_type": "code",
   "execution_count": null,
   "metadata": {},
   "outputs": [],
   "source": [
    "# create df of movie ids and keywords\n",
    "movie_keywords = en_movies[[\"id\", \"keywords\"]]\n",
    "\n",
    "# Create empty dataframe\n",
    "movie_keywords_df = pd.DataFrame()\n",
    "\n",
    "for index, row in movie_keywords.iterrows():\n",
    "    # Get all keywords into a list\n",
    "    data = row['keywords']\n",
    "        \n",
    "    # Get movie id\n",
    "    movie_id = row['id']\n",
    "        \n",
    "    # Get separate lists for id of keywords\n",
    "    kw_id = [sub['id'] for sub in data_list]\n",
    "    \n",
    "    # Combine lists into data frame\n",
    "    movieid_kws = pd.DataFrame({'movie_id': movie_id, 'kw_id': kw_id})\n",
    "    \n",
    "    # Concatenate to main DataFrame\n",
    "    movie_keywords_df = pd.concat([movie_keywords_df, movieid_kws], ignore_index=True)\n",
    "\n",
    "# Convert ids to integers\n",
    "movie_keywords_df['kw_id']=movie_keywords_df['kw_id'].astype(int)\n",
    "\n",
    "# Save as csv\n",
    "movie_keywords_df.to_csv('csv_outputs\\movieids_keywords.csv', index=False)\n",
    "    \n",
    "# Check first 25 rows of the DataFrame\n",
    "movie_keywords_df.head(25)"
   ]
  },
  {
   "cell_type": "markdown",
   "metadata": {},
   "source": [
    "# Create Movies Dataframe"
   ]
  },
  {
   "cell_type": "code",
   "execution_count": null,
   "metadata": {},
   "outputs": [],
   "source": [
    "# Identify which columns are needed\n",
    "data = {'movie_id':en_movies['id'], 'title':en_movies['title'], 'release_date_str':en_movies['release_date'], 'revenue':en_movies['revenue'], 'tagline':en_movies['tagline'], 'average_vote':en_movies['vote_average']}\n",
    "\n",
    "# Create Director Dataframe\n",
    "movies_df = pd.DataFrame(data=(data))\n",
    "\n",
    "# Convert revenue into dollars\n",
    "\n",
    "# Convert ids to integers\n",
    "movies_df['movie_id']=movies_df['movie_id'].astype(int)\n",
    "\n",
    "# Convert release date column to datetime type\n",
    "movies_df['release_date'] = pd.to_datetime(movies_df['release_date_str'])\n",
    "\n",
    "# Drop the original release date column\n",
    "movies_df.drop(columns=['release_date_str'], inplace=True)\n",
    "\n",
    "# Save as csv\n",
    "movies_df.to_csv('csv_outputs\\movies.csv', index=False)\n",
    "\n",
    "movies_df.head(10)\n",
    "\n",
    "# movies_df.dtypes"
   ]
  },
  {
   "cell_type": "code",
   "execution_count": null,
   "metadata": {},
   "outputs": [],
   "source": []
  }
 ],
 "metadata": {
  "kernelspec": {
   "display_name": "base",
   "language": "python",
   "name": "python3"
  },
  "language_info": {
   "codemirror_mode": {
    "name": "ipython",
    "version": 3
   },
   "file_extension": ".py",
   "mimetype": "text/x-python",
   "name": "python",
   "nbconvert_exporter": "python",
   "pygments_lexer": "ipython3",
   "version": "3.10.13"
  }
 },
 "nbformat": 4,
 "nbformat_minor": 2
}
