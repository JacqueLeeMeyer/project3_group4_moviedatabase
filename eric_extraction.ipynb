{
 "cells": [
  {
   "cell_type": "code",
   "execution_count": null,
   "metadata": {},
   "outputs": [],
   "source": [
    "#dependencies\n",
    "import pandas as pd\n",
    "import json\n",
    "from pyparsing import Word, alphas"
   ]
  },
  {
   "cell_type": "code",
   "execution_count": null,
   "metadata": {},
   "outputs": [],
   "source": [
    "#retrieve all movies from csv\n",
    "movies = pd.read_csv(\"Resources/tmdb_5000_movies.csv\")\n",
    "movies.head()"
   ]
  },
  {
   "cell_type": "code",
   "execution_count": null,
   "metadata": {},
   "outputs": [],
   "source": [
    "#filter for english language movies only\n",
    "#some foreign language movies titles did not translate characters properly in the origina list\n",
    "en_movies = movies[movies[\"original_language\"]==\"en\"]\n",
    "en_movies.head()"
   ]
  },
  {
   "cell_type": "code",
   "execution_count": null,
   "metadata": {},
   "outputs": [],
   "source": [
    "#retrieve all credits info (actors and other crew)\n",
    "credits = pd.read_csv(\"Resources/tmdb_5000_credits.csv\")\n",
    "credits.head()"
   ]
  },
  {
   "cell_type": "code",
   "execution_count": null,
   "metadata": {},
   "outputs": [],
   "source": [
    "#seperate director information"
   ]
  },
  {
   "cell_type": "code",
   "execution_count": null,
   "metadata": {},
   "outputs": [],
   "source": [
    "#get top 5 actors of each movie\n",
    "\n",
    "#get movie ID and cast column\n",
    "cast = credits[[\"movie_id\", \"cast\"]].copy()\n",
    "cast.head()\n",
    "\n",
    "#isolate dictionary for each caster\n"
   ]
  },
  {
   "cell_type": "code",
   "execution_count": null,
   "metadata": {},
   "outputs": [],
   "source": [
    "#testing for avatar\n",
    "\n",
    "#index 0 is first row. getting full cast info\n",
    "data = cast[\"cast\"].loc[cast.index[0]]\n",
    "\n",
    "data_list = json.loads(data)\n",
    "\n",
    "five_list = data_list[:5]\n",
    "\n",
    "actor_id = [ sub['id'] for sub in five_list ]\n",
    "actor_name = [ sub['name'] for sub in five_list ]\n",
    "movie_id = cast[\"movie_id\"].loc[cast.index[0]]\n",
    "\n",
    "five_df = pd.DataFrame({'movie_id':movie_id,'actor_id':actor_id,'name': actor_name})\n",
    "five_df"
   ]
  },
  {
   "cell_type": "code",
   "execution_count": null,
   "metadata": {},
   "outputs": [],
   "source": [
    "credits_actor = pd.DataFrame()\n",
    "\n",
    "for index, row in cast.iterrows():\n",
    "    #get all actors into a list\n",
    "    data = cast[\"cast\"].loc[cast.index[index]]\n",
    "    data_list = json.loads(data)\n",
    "\n",
    "    #get movie id\n",
    "    movie_id = cast[\"movie_id\"].loc[cast.index[index]]\n",
    "\n",
    "    #get top 5 billed actors in list\n",
    "    five_list = data_list[:5]\n",
    "\n",
    "    #get seperate lists for id and names of actors\n",
    "    actor_id = [ sub['id'] for sub in five_list ]\n",
    "    #actort name is not needed as taht will be in seperate table\n",
    "    #actor_name = [ sub['name'] for sub in five_list ]\n",
    "\n",
    "    #combine lists into data frame by concatenating the top five actors to complete list of actors with credits\n",
    "    five_df = pd.DataFrame({'movie_id':movie_id,'actor_id':actor_id})\n",
    "    credits_actor = pd.concat([credits_actor, five_df], ignore_index=True)\n",
    "\n",
    "# check df\n",
    "credits_actor.head(1000)\n",
    "\n",
    "# # Save as csv\n",
    "credits_actor.to_csv('csv_outputs\\credits_actor.csv', index=False)   \n"
   ]
  }
 ],
 "metadata": {
  "kernelspec": {
   "display_name": "base",
   "language": "python",
   "name": "python3"
  },
  "language_info": {
   "codemirror_mode": {
    "name": "ipython",
    "version": 3
   },
   "file_extension": ".py",
   "mimetype": "text/x-python",
   "name": "python",
   "nbconvert_exporter": "python",
   "pygments_lexer": "ipython3",
   "version": "3.10.13"
  }
 },
 "nbformat": 4,
 "nbformat_minor": 2
}
